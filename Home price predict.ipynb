{
 "cells": [
  {
   "cell_type": "code",
   "execution_count": 1,
   "id": "ee94a611",
   "metadata": {},
   "outputs": [],
   "source": [
    "import pandas as pa\n",
    "import matplotlib.pyplot as plt\n",
    "import numpy as np"
   ]
  },
  {
   "cell_type": "code",
   "execution_count": 3,
   "id": "196d536d",
   "metadata": {},
   "outputs": [
    {
     "data": {
      "text/html": [
       "<div>\n",
       "<style scoped>\n",
       "    .dataframe tbody tr th:only-of-type {\n",
       "        vertical-align: middle;\n",
       "    }\n",
       "\n",
       "    .dataframe tbody tr th {\n",
       "        vertical-align: top;\n",
       "    }\n",
       "\n",
       "    .dataframe thead th {\n",
       "        text-align: right;\n",
       "    }\n",
       "</style>\n",
       "<table border=\"1\" class=\"dataframe\">\n",
       "  <thead>\n",
       "    <tr style=\"text-align: right;\">\n",
       "      <th></th>\n",
       "      <th>x</th>\n",
       "      <th>y</th>\n",
       "    </tr>\n",
       "  </thead>\n",
       "  <tbody>\n",
       "    <tr>\n",
       "      <th>0</th>\n",
       "      <td>48.955889</td>\n",
       "      <td>60.723602</td>\n",
       "    </tr>\n",
       "    <tr>\n",
       "      <th>1</th>\n",
       "      <td>44.687196</td>\n",
       "      <td>82.892504</td>\n",
       "    </tr>\n",
       "    <tr>\n",
       "      <th>2</th>\n",
       "      <td>60.297327</td>\n",
       "      <td>97.379897</td>\n",
       "    </tr>\n",
       "    <tr>\n",
       "      <th>3</th>\n",
       "      <td>45.618644</td>\n",
       "      <td>48.847153</td>\n",
       "    </tr>\n",
       "    <tr>\n",
       "      <th>4</th>\n",
       "      <td>38.816818</td>\n",
       "      <td>56.877213</td>\n",
       "    </tr>\n",
       "  </tbody>\n",
       "</table>\n",
       "</div>"
      ],
      "text/plain": [
       "           x          y\n",
       "0  48.955889  60.723602\n",
       "1  44.687196  82.892504\n",
       "2  60.297327  97.379897\n",
       "3  45.618644  48.847153\n",
       "4  38.816818  56.877213"
      ]
     },
     "execution_count": 3,
     "metadata": {},
     "output_type": "execute_result"
    }
   ],
   "source": [
    "ho= pa.read_csv(\"home data.csv\")\n",
    "ho.head()"
   ]
  },
  {
   "cell_type": "code",
   "execution_count": 4,
   "id": "2565ba87",
   "metadata": {},
   "outputs": [
    {
     "data": {
      "text/plain": [
       "(99, 2)"
      ]
     },
     "execution_count": 4,
     "metadata": {},
     "output_type": "execute_result"
    }
   ],
   "source": [
    "ho.shape"
   ]
  },
  {
   "cell_type": "code",
   "execution_count": 5,
   "id": "e5d5d03e",
   "metadata": {},
   "outputs": [],
   "source": [
    "x=ho[['x']]\n",
    "y=ho[['y']]"
   ]
  },
  {
   "cell_type": "markdown",
   "id": "81712c0c",
   "metadata": {},
   "source": [
    "# Gradient descent in machine learning"
   ]
  },
  {
   "cell_type": "code",
   "execution_count": 16,
   "id": "97000b5e",
   "metadata": {},
   "outputs": [
    {
     "ename": "TypeError",
     "evalue": "unsupported operand type(s) for +: 'int' and 'str'",
     "output_type": "error",
     "traceback": [
      "\u001b[1;31m---------------------------------------------------------------------------\u001b[0m",
      "\u001b[1;31mTypeError\u001b[0m                                 Traceback (most recent call last)",
      "Input \u001b[1;32mIn [16]\u001b[0m, in \u001b[0;36m<cell line: 11>\u001b[1;34m()\u001b[0m\n\u001b[0;32m     11\u001b[0m \u001b[38;5;28;01mfor\u001b[39;00m i \u001b[38;5;129;01min\u001b[39;00m \u001b[38;5;28mrange\u001b[39m(iterations):\n\u001b[0;32m     12\u001b[0m     y_prediction\u001b[38;5;241m=\u001b[39m (m\u001b[38;5;241m*\u001b[39m x) \u001b[38;5;241m+\u001b[39m c\n\u001b[1;32m---> 13\u001b[0m     dervatives_m\u001b[38;5;241m=\u001b[39m  (\u001b[38;5;241m-\u001b[39m\u001b[38;5;241m2\u001b[39m\u001b[38;5;241m/\u001b[39mn)  \u001b[38;5;241m*\u001b[39m \u001b[38;5;28;43msum\u001b[39;49m\u001b[43m(\u001b[49m\u001b[43mx\u001b[49m\u001b[38;5;241;43m*\u001b[39;49m\u001b[43m(\u001b[49m\u001b[43my\u001b[49m\u001b[38;5;241;43m-\u001b[39;49m\u001b[43m \u001b[49m\u001b[43my_prediction\u001b[49m\u001b[43m)\u001b[49m\u001b[43m)\u001b[49m\n\u001b[0;32m     14\u001b[0m     dervatives_c\u001b[38;5;241m=\u001b[39m  (\u001b[38;5;241m-\u001b[39m\u001b[38;5;241m2\u001b[39m\u001b[38;5;241m/\u001b[39mn)  \u001b[38;5;241m*\u001b[39m  \u001b[38;5;28msum\u001b[39m(y\u001b[38;5;241m-\u001b[39m y_prediction)\n\u001b[0;32m     16\u001b[0m \u001b[38;5;66;03m#final work\u001b[39;00m\n",
      "\u001b[1;31mTypeError\u001b[0m: unsupported operand type(s) for +: 'int' and 'str'"
     ]
    }
   ],
   "source": [
    "# step-1\n",
    "m=0\n",
    "c=0\n",
    "Learning_rate =0.001\n",
    "n= int(len(x))\n",
    "\n",
    "iterations=1000\n",
    "\n",
    "# step-2,3\n",
    "\n",
    "for i in range(iterations):\n",
    "    y_prediction= (m* x) + c\n",
    "    dervatives_m=  (-2/n)  * sum(x*(y- y_prediction))\n",
    "    dervatives_c=  (-2/n)  *  sum(y- y_prediction)\n",
    "        \n",
    "#final work\n",
    "\n",
    "    m=m-(Learning_rate*dervatives_m)\n",
    "    c = c-(Learning_rate*dervatives_c)\n",
    "    #print(m,c)\n",
    "print(\"This is m : \",m)\n",
    "print(\"This is c : \",c)"
   ]
  },
  {
   "cell_type": "markdown",
   "id": "2591ea4b",
   "metadata": {},
   "source": [
    "# Make Prediction"
   ]
  },
  {
   "cell_type": "code",
   "execution_count": null,
   "id": "95c583e5",
   "metadata": {},
   "outputs": [],
   "source": [
    "x= float(input(\"Enter any value of x:\"))\n",
    "#y=mx+c\n",
    "\n",
    "y="
   ]
  }
 ],
 "metadata": {
  "kernelspec": {
   "display_name": "Python 3 (ipykernel)",
   "language": "python",
   "name": "python3"
  },
  "language_info": {
   "codemirror_mode": {
    "name": "ipython",
    "version": 3
   },
   "file_extension": ".py",
   "mimetype": "text/x-python",
   "name": "python",
   "nbconvert_exporter": "python",
   "pygments_lexer": "ipython3",
   "version": "3.9.12"
  }
 },
 "nbformat": 4,
 "nbformat_minor": 5
}
